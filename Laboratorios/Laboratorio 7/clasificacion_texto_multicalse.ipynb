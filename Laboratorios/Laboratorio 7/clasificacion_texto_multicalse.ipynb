{
 "cells": [
  {
   "cell_type": "markdown",
   "id": "c2a6efb8-7ed7-432a-baa4-e37aefe153c9",
   "metadata": {},
   "source": [
    "## Credits:\n",
    "The code in this notebook has been adopted from the Notebook published by [arunmohan_003]([url](https://www.kaggle.com/arunmohan003)) on Kaggle. Some changes have been made by the author."
   ]
  },
  {
   "cell_type": "code",
   "execution_count": 12,
   "id": "d0eb4f16-5a99-460d-a5ba-706b7ef0bbe7",
   "metadata": {
    "executionTime": 4045,
    "id": "bA5ajAmk7XH6",
    "lastSuccessfullyExecutedCode": "import numpy as np # linear algebra\nimport pandas as pd # data processing, CSV file I/O (e.g. pd.read_csv)\nimport torch\nimport torch.nn as nn\nimport torch.nn.functional as F\nfrom nltk.corpus import stopwords \nfrom collections import Counter\nimport string\nimport re\nimport seaborn as sns\nfrom tqdm import tqdm\nimport matplotlib.pyplot as plt\nfrom torch.utils.data import TensorDataset, DataLoader\nfrom sklearn.model_selection import train_test_split"
   },
   "outputs": [],
   "source": [
    "import numpy as np # linear algebra\n",
    "import pandas as pd # data processing, CSV file I/O (e.g. pd.read_csv)\n",
    "import torch\n",
    "import torch.nn as nn\n",
    "import torch.nn.functional as F\n",
    "from nltk.corpus import stopwords \n",
    "from collections import Counter\n",
    "import string\n",
    "import re\n",
    "import seaborn as sns\n",
    "from tqdm import tqdm\n",
    "import matplotlib.pyplot as plt\n",
    "from torch.utils.data import TensorDataset, DataLoader\n",
    "from sklearn.model_selection import train_test_split"
   ]
  },
  {
   "cell_type": "code",
   "execution_count": 13,
   "id": "b79a769a-53f4-48fd-9341-e46f01275ca0",
   "metadata": {
    "collapsed": true,
    "executionTime": 21377,
    "jupyter": {
     "outputs_hidden": true,
     "source_hidden": false
    },
    "lastSuccessfullyExecutedCode": "import nltk\nnltk.download('all')"
   },
   "outputs": [
    {
     "name": "stderr",
     "output_type": "stream",
     "text": [
      "[nltk_data] Downloading package punkt to\n",
      "[nltk_data]     C:\\Users\\Animetx\\AppData\\Roaming\\nltk_data...\n",
      "[nltk_data]   Package punkt is already up-to-date!\n",
      "[nltk_data] Downloading package stopwords to\n",
      "[nltk_data]     C:\\Users\\Animetx\\AppData\\Roaming\\nltk_data...\n",
      "[nltk_data]   Package stopwords is already up-to-date!\n",
      "[nltk_data] Downloading package vader_lexicon to\n",
      "[nltk_data]     C:\\Users\\Animetx\\AppData\\Roaming\\nltk_data...\n"
     ]
    },
    {
     "data": {
      "text/plain": [
       "True"
      ]
     },
     "execution_count": 13,
     "metadata": {},
     "output_type": "execute_result"
    }
   ],
   "source": [
    "import nltk\n",
    "nltk.download('punkt')\n",
    "nltk.download('stopwords')\n",
    "nltk.download('vader_lexicon')"
   ]
  },
  {
   "cell_type": "code",
   "execution_count": 14,
   "id": "3bd082d5-386d-44ba-b46b-ced76deb099a",
   "metadata": {
    "executionTime": 94,
    "lastSuccessfullyExecutedCode": "is_cuda = torch.cuda.is_available()\n\n# If we have a GPU available, we'll set our device to GPU. We'll use this device variable later in our code.\nif is_cuda:\n    device = torch.device(\"cuda\")\n    print(\"GPU is available\")\nelse:\n    device = torch.device(\"cpu\")\n    print(\"GPU not available, CPU used\")",
    "outputsMetadata": {
     "0": {
      "height": 38,
      "type": "stream"
     }
    }
   },
   "outputs": [
    {
     "name": "stdout",
     "output_type": "stream",
     "text": [
      "GPU is available\n"
     ]
    }
   ],
   "source": [
    "is_cuda = torch.cuda.is_available()\n",
    "\n",
    "# If we have a GPU available, we'll set our device to GPU. We'll use this device variable later in our code.\n",
    "if is_cuda:\n",
    "    device = torch.device(\"cuda\")\n",
    "    print(\"GPU is available\")\n",
    "else:\n",
    "    device = torch.device(\"cpu\")\n",
    "    print(\"GPU not available, CPU used\")"
   ]
  },
  {
   "cell_type": "code",
   "execution_count": null,
   "id": "e07ceb20-fa2f-43e7-b336-ab447fd05344",
   "metadata": {
    "executionTime": 362,
    "lastSuccessfullyExecutedCode": "file_name = 'IMDB Dataset.csv'\ndf = pd.read_csv(file_name)\ndf.head()",
    "outputsMetadata": {
     "0": {
      "height": 1,
      "tableState": {
       "customFilter": {
        "const": {
         "type": "boolean",
         "valid": true,
         "value": true
        },
        "id": "2c569510-dc6c-423c-8ff6-a384fae9b609",
        "nodeType": "const"
       }
      },
      "type": "dataFrame"
     }
    }
   },
   "outputs": [
    {
     "data": {
      "text/html": [
       "<div>\n",
       "<style scoped>\n",
       "    .dataframe tbody tr th:only-of-type {\n",
       "        vertical-align: middle;\n",
       "    }\n",
       "\n",
       "    .dataframe tbody tr th {\n",
       "        vertical-align: top;\n",
       "    }\n",
       "\n",
       "    .dataframe thead th {\n",
       "        text-align: right;\n",
       "    }\n",
       "</style>\n",
       "<table border=\"1\" class=\"dataframe\">\n",
       "  <thead>\n",
       "    <tr style=\"text-align: right;\">\n",
       "      <th></th>\n",
       "      <th>review</th>\n",
       "      <th>sentiment</th>\n",
       "    </tr>\n",
       "  </thead>\n",
       "  <tbody>\n",
       "    <tr>\n",
       "      <th>0</th>\n",
       "      <td>One of the other reviewers has mentioned that ...</td>\n",
       "      <td>positive</td>\n",
       "    </tr>\n",
       "    <tr>\n",
       "      <th>1</th>\n",
       "      <td>A wonderful little production. &lt;br /&gt;&lt;br /&gt;The...</td>\n",
       "      <td>positive</td>\n",
       "    </tr>\n",
       "    <tr>\n",
       "      <th>2</th>\n",
       "      <td>I thought this was a wonderful way to spend ti...</td>\n",
       "      <td>positive</td>\n",
       "    </tr>\n",
       "    <tr>\n",
       "      <th>3</th>\n",
       "      <td>Basically there's a family where a little boy ...</td>\n",
       "      <td>negative</td>\n",
       "    </tr>\n",
       "    <tr>\n",
       "      <th>4</th>\n",
       "      <td>Petter Mattei's \"Love in the Time of Money\" is...</td>\n",
       "      <td>positive</td>\n",
       "    </tr>\n",
       "  </tbody>\n",
       "</table>\n",
       "</div>"
      ],
      "text/plain": [
       "                                              review sentiment\n",
       "0  One of the other reviewers has mentioned that ...  positive\n",
       "1  A wonderful little production. <br /><br />The...  positive\n",
       "2  I thought this was a wonderful way to spend ti...  positive\n",
       "3  Basically there's a family where a little boy ...  negative\n",
       "4  Petter Mattei's \"Love in the Time of Money\" is...  positive"
      ]
     },
     "execution_count": 15,
     "metadata": {},
     "output_type": "execute_result"
    }
   ],
   "source": [
    "file_name = 'IMDB Dataset.csv'\n",
    "df = pd.read_csv(file_name)\n",
    "df.head()"
   ]
  },
  {
   "cell_type": "markdown",
   "id": "28f44808",
   "metadata": {},
   "source": [
    "## Separacion del Dataset\n",
    "Aqui he separado el dataset en dos, que es positivo y negativo, para luego usar SentimentIntensityAnalyzer para cada uno con su **score** y separarlos entre las diferentes clases:"
   ]
  },
  {
   "cell_type": "code",
   "execution_count": 36,
   "id": "84b8980b",
   "metadata": {},
   "outputs": [
    {
     "name": "stdout",
     "output_type": "stream",
     "text": [
      "Dataset positivo: (25000, 4)\n",
      "Dataset negativo: (25000, 4)\n"
     ]
    }
   ],
   "source": [
    "df_positive = df[df['sentiment'] == 'positive']\n",
    "df_negative = df[df['sentiment'] == 'negative']\n",
    "\n",
    "df_positive.to_csv(\"dataset_positive.csv\", index=False)\n",
    "df_negative.to_csv(\"dataset_negative.csv\", index=False)\n",
    "\n",
    "print(\"Dataset positivo:\", df_positive.shape)\n",
    "print(\"Dataset negativo:\", df_negative.shape)"
   ]
  },
  {
   "cell_type": "markdown",
   "id": "d511a254",
   "metadata": {},
   "source": [
    "## Creacion del Dataset Sintetico\n",
    "\n",
    "En esta parte se implementa para ambos datasets generados, entre:\n",
    "\n",
    "* -0.6 => \"Muy malo\"\n",
    "* -0.2 => \"Malo\"\n",
    "* \"Regular\"\n",
    "\n",
    "* 0.6 => \"Muy bueno\"\n",
    "* 0.2 => \"Bueno\"\n",
    "* \"Regular\"\n",
    "\n",
    "esto evitara reasignar los valores de Positivo y Negativo, asi solamente clasificandolo para cada uno entre sus correspondientes"
   ]
  },
  {
   "cell_type": "code",
   "execution_count": null,
   "id": "60ac2dd7",
   "metadata": {},
   "outputs": [
    {
     "name": "stdout",
     "output_type": "stream",
     "text": [
      "                                              review  compound  \\\n",
      "0  One of the other reviewers has mentioned that ...   -0.9951   \n",
      "1  A wonderful little production. <br /><br />The...    0.9641   \n",
      "2  I thought this was a wonderful way to spend ti...    0.9605   \n",
      "3  Petter Mattei's \"Love in the Time of Money\" is...    0.9744   \n",
      "4  Probably my all-time favorite movie, a story o...    0.9828   \n",
      "5  I sure would like to see a resurrection of a u...    0.9022   \n",
      "6  If you like original gut wrenching laughter yo...    0.9149   \n",
      "7  This a fantastic movie of three prisoners who ...    0.6168   \n",
      "8  Some films just simply should not be remade. T...    0.3506   \n",
      "9  I remember this film,it was the first film i h...    0.6518   \n",
      "\n",
      "  sentiment_5class  \n",
      "0          Regular  \n",
      "1        Muy bueno  \n",
      "2        Muy bueno  \n",
      "3        Muy bueno  \n",
      "4        Muy bueno  \n",
      "5        Muy bueno  \n",
      "6        Muy bueno  \n",
      "7        Muy bueno  \n",
      "8            Bueno  \n",
      "9        Muy bueno  \n"
     ]
    }
   ],
   "source": [
    "import pandas as pd\n",
    "from nltk.sentiment import SentimentIntensityAnalyzer\n",
    "import nltk\n",
    "\n",
    "# --- Descargar VADER si no está ---\n",
    "try:\n",
    "    nltk.data.find('sentiment/vader_lexicon')\n",
    "except LookupError:\n",
    "    nltk.download('vader_lexicon', quiet=True)\n",
    "\n",
    "sia = SentimentIntensityAnalyzer()\n",
    "\n",
    "# --- Leer los datasets ---\n",
    "df_positive = pd.read_csv(\"dataset_positive.csv\")\n",
    "df_negative = pd.read_csv(\"dataset_negative.csv\")\n",
    "\n",
    "# --- Calcular el compound si no existe ---\n",
    "if 'compound' not in df_positive.columns:\n",
    "    df_positive['compound'] = df_positive['review'].apply(lambda t: sia.polarity_scores(str(t))['compound'])\n",
    "if 'compound' not in df_negative.columns:\n",
    "    df_negative['compound'] = df_negative['review'].apply(lambda t: sia.polarity_scores(str(t))['compound'])\n",
    "\n",
    "# --- Funciones para clasificar en 5 clases ---\n",
    "def to_5class(score):\n",
    "    if score >= 0.6:\n",
    "        return \"Muy bueno\"\n",
    "    elif score >= 0.2:\n",
    "        return \"Bueno\"\n",
    "    elif score > -0.2:\n",
    "        return \"Regular\"\n",
    "    elif score > -0.6:\n",
    "        return \"Malo\"\n",
    "    else:\n",
    "        return \"Muy malo\"\n",
    "\n",
    "# --- Funciones para clasificar en 5 clases (positivo y negativo separados) ---\n",
    "def to_5class_positive(score):\n",
    "    if score >= 0.6:\n",
    "        return \"Muy bueno\"\n",
    "    elif score >= 0.2:\n",
    "        return \"Bueno\"\n",
    "    else:\n",
    "        return \"Regular\"\n",
    "\n",
    "def to_5class_negative(score):\n",
    "    if score <= -0.6:\n",
    "        return \"Muy malo\"\n",
    "    elif score <= -0.2:\n",
    "        return \"Malo\"\n",
    "    else:\n",
    "        return \"Regular\"\n",
    "\n",
    "# --- Aplicar las funciones ---\n",
    "df_positive['sentiment_5class'] = df_positive['compound'].apply(to_5class_positive)\n",
    "df_negative['sentiment_5class'] = df_negative['compound'].apply(to_5class_negative)\n",
    "\n",
    "# --- Combinar los datasets ---\n",
    "df_final = pd.concat([df_positive, df_negative], ignore_index=True)\n",
    "\n",
    "# -- Guardar el dataset final ---\n",
    "df_final.to_csv(\"dataset_5clases.csv\", index=False)\n",
    "\n",
    "# --- Mostrar algunas filas del dataset final ---\n",
    "print(df_final[[\"review\", \"compound\", \"sentiment_5class\"]].head(10))\n"
   ]
  },
  {
   "cell_type": "code",
   "execution_count": 54,
   "id": "7edcaa06",
   "metadata": {},
   "outputs": [
    {
     "data": {
      "text/html": [
       "<div>\n",
       "<style scoped>\n",
       "    .dataframe tbody tr th:only-of-type {\n",
       "        vertical-align: middle;\n",
       "    }\n",
       "\n",
       "    .dataframe tbody tr th {\n",
       "        vertical-align: top;\n",
       "    }\n",
       "\n",
       "    .dataframe thead th {\n",
       "        text-align: right;\n",
       "    }\n",
       "</style>\n",
       "<table border=\"1\" class=\"dataframe\">\n",
       "  <thead>\n",
       "    <tr style=\"text-align: right;\">\n",
       "      <th></th>\n",
       "      <th>review</th>\n",
       "      <th>sentiment</th>\n",
       "      <th>compound</th>\n",
       "      <th>sentiment_5class</th>\n",
       "    </tr>\n",
       "  </thead>\n",
       "  <tbody>\n",
       "    <tr>\n",
       "      <th>0</th>\n",
       "      <td>One of the other reviewers has mentioned that ...</td>\n",
       "      <td>positive</td>\n",
       "      <td>-0.9951</td>\n",
       "      <td>Regular</td>\n",
       "    </tr>\n",
       "    <tr>\n",
       "      <th>1</th>\n",
       "      <td>A wonderful little production. &lt;br /&gt;&lt;br /&gt;The...</td>\n",
       "      <td>positive</td>\n",
       "      <td>0.9641</td>\n",
       "      <td>Muy bueno</td>\n",
       "    </tr>\n",
       "    <tr>\n",
       "      <th>2</th>\n",
       "      <td>I thought this was a wonderful way to spend ti...</td>\n",
       "      <td>positive</td>\n",
       "      <td>0.9605</td>\n",
       "      <td>Muy bueno</td>\n",
       "    </tr>\n",
       "    <tr>\n",
       "      <th>3</th>\n",
       "      <td>Petter Mattei's \"Love in the Time of Money\" is...</td>\n",
       "      <td>positive</td>\n",
       "      <td>0.9744</td>\n",
       "      <td>Muy bueno</td>\n",
       "    </tr>\n",
       "    <tr>\n",
       "      <th>4</th>\n",
       "      <td>Probably my all-time favorite movie, a story o...</td>\n",
       "      <td>positive</td>\n",
       "      <td>0.9828</td>\n",
       "      <td>Muy bueno</td>\n",
       "    </tr>\n",
       "  </tbody>\n",
       "</table>\n",
       "</div>"
      ],
      "text/plain": [
       "                                              review sentiment  compound  \\\n",
       "0  One of the other reviewers has mentioned that ...  positive   -0.9951   \n",
       "1  A wonderful little production. <br /><br />The...  positive    0.9641   \n",
       "2  I thought this was a wonderful way to spend ti...  positive    0.9605   \n",
       "3  Petter Mattei's \"Love in the Time of Money\" is...  positive    0.9744   \n",
       "4  Probably my all-time favorite movie, a story o...  positive    0.9828   \n",
       "\n",
       "  sentiment_5class  \n",
       "0          Regular  \n",
       "1        Muy bueno  \n",
       "2        Muy bueno  \n",
       "3        Muy bueno  \n",
       "4        Muy bueno  "
      ]
     },
     "execution_count": 54,
     "metadata": {},
     "output_type": "execute_result"
    }
   ],
   "source": [
    "file_name = 'dataset_5clases.csv'\n",
    "df = pd.read_csv(file_name)\n",
    "df.head()"
   ]
  },
  {
   "cell_type": "code",
   "execution_count": 51,
   "id": "991ba61c-9927-46a7-a886-b9c79d7879cb",
   "metadata": {
    "executionTime": 50,
    "lastSuccessfullyExecutedCode": "X,y = df['review'].values,df['sentiment'].values\nx_train,x_test,y_train,y_test = train_test_split(X,y,stratify=y)\nprint(f'train data shape: {x_train.shape}')\nprint(f'test data shape: {x_test.shape}')",
    "outputsMetadata": {
     "0": {
      "height": 59,
      "type": "stream"
     }
    }
   },
   "outputs": [
    {
     "name": "stdout",
     "output_type": "stream",
     "text": [
      "train data shape: (37500,)\n",
      "test data shape: (12500,)\n"
     ]
    }
   ],
   "source": [
    "# Use the 5-class sentiment labels as target\n",
    "X, y = df['review'].values, df['sentiment_5class'].values\n",
    "x_train,x_test,y_train,y_test = train_test_split(X,y,stratify=y)\n",
    "print(f'train data shape: {x_train.shape}')\n",
    "print(f'test data shape: {x_test.shape}')"
   ]
  },
  {
   "cell_type": "code",
   "execution_count": null,
   "id": "523087de-3b4e-4cdf-b2b5-eb36e70db453",
   "metadata": {
    "executionTime": 159,
    "lastSuccessfullyExecutedCode": "dd = pd.Series(y_train).value_counts()\nsns.barplot(x=np.array(['negative','positive']),y=dd.values)\nplt.show()"
   },
   "outputs": [
    {
     "name": "stderr",
     "output_type": "stream",
     "text": [
      "C:\\Users\\Animetx\\AppData\\Local\\Temp\\ipykernel_8604\\179684215.py:16: FutureWarning: \n",
      "\n",
      "Passing `palette` without assigning `hue` is deprecated and will be removed in v0.14.0. Assign the `x` variable to `hue` and set `legend=False` for the same effect.\n",
      "\n",
      "  sns.barplot(x=order, y=values_ordered, palette=\"viridis\")\n"
     ]
    },
    {
     "data": {
      "image/png": "[encoded data removed]",
      "text/plain": [
       "<Figure size 640x480 with 1 Axes>"
      ]
     },
     "metadata": {},
     "output_type": "display_data"
    }
   ],
   "source": [
    "import numpy as np\n",
    "import seaborn as sns\n",
    "import matplotlib.pyplot as plt\n",
    "import pandas as pd\n",
    "\n",
    "# Conteo de clases\n",
    "dd = pd.Series(y_train).value_counts()\n",
    "\n",
    "# \n",
    "order = ['Muy bueno', 'Bueno', 'Regular', 'Malo', 'Muy malo']\n",
    "\n",
    "values_ordered = [dd.get(label, 0) for label in order]\n",
    "\n",
    "sns.barplot(x=order, y=values_ordered, palette=\"viridis\")\n",
    "plt.title(\"Distribución de clases (5 niveles de sentimiento)\")\n",
    "plt.xlabel(\"Clase\")\n",
    "plt.ylabel(\"Cantidad de ejemplos\")\n",
    "plt.show()"
   ]
  },
  {
   "cell_type": "markdown",
   "id": "6d4e5329",
   "metadata": {},
   "source": [
    "Con la grafica podemos ver como los muy bueno y muy malo no estan tan disparejo, esto se debe a que algunos valores se fueron a regular.\n",
    "\n",
    "Una alternativa encontrada y mas efectiva es crearse arrays con palabras que indiquen si es, bueno, malo, etc, asi luego clasificar a cada clase"
   ]
  },
  {
   "cell_type": "code",
   "execution_count": 57,
   "id": "75c33e8d-3f15-45a0-8dcf-69406b76016b",
   "metadata": {
    "executionTime": 64,
    "lastSuccessfullyExecutedCode": "def preprocess_string(s):\n    # Remove all non-word characters (everything except numbers and letters)\n    s = re.sub(r\"[^\\w\\s]\", '', s)\n    # Replace all runs of whitespaces with no space\n    s = re.sub(r\"\\s+\", '', s)\n    # replace digits with no space\n    s = re.sub(r\"\\d\", '', s)\n\n    return s\n\ndef tockenize(x_train,y_train,x_val,y_val):\n    word_list = []\n\n    stop_words = set(stopwords.words('english')) \n    for sent in x_train:\n        for word in sent.lower().split():\n            word = preprocess_string(word)\n            if word not in stop_words and word != '':\n                word_list.append(word)\n  \n    corpus = Counter(word_list)\n    # sorting on the basis of most common words\n    corpus_ = sorted(corpus,key=corpus.get,reverse=True)[:1000]\n    # creating a dict\n    onehot_dict = {w:i+1 for i,w in enumerate(corpus_)}\n    \n    # tockenize\n    final_list_train,final_list_test = [],[]\n    for sent in x_train:\n            final_list_train.append([onehot_dict[preprocess_string(word)] for word in sent.lower().split() \n                                     if preprocess_string(word) in onehot_dict.keys()])\n    for sent in x_val:\n            final_list_test.append([onehot_dict[preprocess_string(word)] for word in sent.lower().split() \n                                    if preprocess_string(word) in onehot_dict.keys()])\n            \n    encoded_train = [1 if label =='positive' else 0 for label in y_train]  \n    encoded_test = [1 if label =='positive' else 0 for label in y_val] \n    return np.array(final_list_train), np.array(encoded_train),np.array(final_list_test), np.array(encoded_test),onehot_dict\n"
   },
   "outputs": [],
   "source": [
    "def preprocess_string(s):\n",
    "    # Remove all non-word characters (everything except numbers and letters)\n",
    "    s = re.sub(r\"[^\\w\\s]\", '', s)\n",
    "    # Replace all runs of whitespaces with single space\n",
    "    s = re.sub(r\"\\s+\", ' ', s)\n",
    "    # replace digits with no space\n",
    "    s = re.sub(r\"\\d\", '', s)\n",
    "    return s.strip()\n",
    "\n",
    "\n",
    "def tokenize(x_train,y_train,x_val,y_val):\n",
    "    word_list = []\n",
    "\n",
    "    stop_words = set(stopwords.words('english')) \n",
    "    for sent in x_train:\n",
    "        for word in str(sent).lower().split():\n",
    "            word = preprocess_string(word)\n",
    "            if word not in stop_words and word != '':\n",
    "                word_list.append(word)\n",
    "  \n",
    "    corpus = Counter(word_list)\n",
    "    # sorting on the basis of most common words\n",
    "    corpus_ = sorted(corpus,key=corpus.get,reverse=True)[:1000]\n",
    "    # creating a dict\n",
    "    onehot_dict = {w:i+1 for i,w in enumerate(corpus_)}\n",
    "    \n",
    "    # tokenize\n",
    "    final_list_train,final_list_test = [],[]\n",
    "    for sent in x_train:\n",
    "            final_list_train.append([onehot_dict[preprocess_string(word)] for word in str(sent).lower().split() \n",
    "                                     if preprocess_string(word) in onehot_dict.keys()])\n",
    "    for sent in x_val:\n",
    "            final_list_test.append([onehot_dict[preprocess_string(word)] for word in str(sent).lower().split() \n",
    "                                    if preprocess_string(word) in onehot_dict.keys()])\n",
    "            \n",
    "    # Map 5-class labels to integers\n",
    "    label_map = {\"Muy malo\":0, \"Malo\":1, \"Regular\":2, \"Bueno\":3, \"Muy bueno\":4}\n",
    "    encoded_train = [label_map[label] for label in y_train]\n",
    "    encoded_test = [label_map[label] for label in y_val]\n",
    "    return (\n",
    "        np.array(final_list_train, dtype=object),\n",
    "        np.array(encoded_train),\n",
    "        np.array(final_list_test, dtype=object),\n",
    "        np.array(encoded_test),\n",
    "        onehot_dict\n",
    "    )\n",
    "    # return np.array(final_list_train), np.array(encoded_train),np.array(final_list_test), np.array(encoded_test),onehot_dict"
   ]
  },
  {
   "cell_type": "code",
   "execution_count": 58,
   "id": "bb95aa7c-ad18-4caa-8493-2a18d3e02682",
   "metadata": {
    "executionTime": 65577,
    "lastSuccessfullyExecutedCode": "x_train,y_train,x_test,y_test,vocab = tockenize(x_train,y_train,x_test,y_test)"
   },
   "outputs": [],
   "source": [
    "x_train,y_train,x_test,y_test,vocab = tokenize(x_train,y_train,x_test,y_test)"
   ]
  },
  {
   "cell_type": "code",
   "execution_count": 59,
   "id": "d0795216-c0df-487f-9505-1e92ef8238e2",
   "metadata": {
    "executionTime": 131,
    "lastSuccessfullyExecutedCode": "print(f'Length of vocabulary is {len(vocab)}')",
    "outputsMetadata": {
     "0": {
      "height": 38,
      "type": "stream"
     }
    }
   },
   "outputs": [
    {
     "name": "stdout",
     "output_type": "stream",
     "text": [
      "Length of vocabulary is 1000\n"
     ]
    }
   ],
   "source": [
    "print(f'Length of vocabulary is {len(vocab)}')"
   ]
  },
  {
   "cell_type": "code",
   "execution_count": 60,
   "id": "8fda1745-4011-41a1-bb4e-52f9ce65d662",
   "metadata": {
    "executionTime": 80,
    "lastSuccessfullyExecutedCode": "rev_len = [len(i) for i in x_train]\npd.Series(rev_len).hist()\nplt.show()\npd.Series(rev_len).describe()"
   },
   "outputs": [
    {
     "data": {
      "image/png": "[encoded data removed]",
      "text/plain": [
       "<Figure size 640x480 with 1 Axes>"
      ]
     },
     "metadata": {},
     "output_type": "display_data"
    },
    {
     "data": {
      "text/plain": [
       "count    37500.000000\n",
       "mean        69.000693\n",
       "std         48.019233\n",
       "min          0.000000\n",
       "25%         39.000000\n",
       "50%         54.000000\n",
       "75%         84.000000\n",
       "max        653.000000\n",
       "dtype: float64"
      ]
     },
     "execution_count": 60,
     "metadata": {},
     "output_type": "execute_result"
    }
   ],
   "source": [
    "rev_len = [len(i) for i in x_train]\n",
    "pd.Series(rev_len).hist()\n",
    "plt.show()\n",
    "pd.Series(rev_len).describe()"
   ]
  },
  {
   "cell_type": "code",
   "execution_count": 61,
   "id": "87517f97-49d9-4836-9be5-6c80a6fb7e5d",
   "metadata": {
    "executionTime": 0,
    "lastSuccessfullyExecutedCode": "def padding_(sentences, seq_len):\n    features = np.zeros((len(sentences), seq_len),dtype=int)\n    for ii, review in enumerate(sentences):\n        if len(review) != 0:\n            features[ii, -len(review):] = np.array(review)[:seq_len]\n    return features"
   },
   "outputs": [],
   "source": [
    "def padding_(sentences, seq_len):\n",
    "    features = np.zeros((len(sentences), seq_len),dtype=int)\n",
    "    for ii, review in enumerate(sentences):\n",
    "        if len(review) != 0:\n",
    "            features[ii, -len(review):] = np.array(review)[:seq_len]\n",
    "    return features"
   ]
  },
  {
   "cell_type": "code",
   "execution_count": 62,
   "id": "1b5881af-7e14-44ff-bea4-0ebc5b86ec0c",
   "metadata": {
    "executionTime": 69,
    "lastSuccessfullyExecutedCode": "#we have very less number of reviews with length > 500.\n#So we will consideronly those below it.\nx_train_pad = padding_(x_train,500)\nx_test_pad = padding_(x_test,500)"
   },
   "outputs": [],
   "source": [
    "#we have very less number of reviews with length > 500.\n",
    "#So we will consideronly those below it.\n",
    "x_train_pad = padding_(x_train,500)\n",
    "x_test_pad = padding_(x_test,500)"
   ]
  },
  {
   "cell_type": "code",
   "execution_count": 63,
   "id": "70571183-3c6d-4587-9930-f68e117d2ad3",
   "metadata": {
    "executionTime": 0,
    "lastSuccessfullyExecutedCode": "# create Tensor datasets\ntrain_data = TensorDataset(torch.from_numpy(x_train_pad), torch.from_numpy(y_train))\nvalid_data = TensorDataset(torch.from_numpy(x_test_pad), torch.from_numpy(y_test))\n\n# dataloaders\nbatch_size = 50\n\n# make sure to SHUFFLE your data\ntrain_loader = DataLoader(train_data, shuffle=True, batch_size=batch_size)\nvalid_loader = DataLoader(valid_data, shuffle=True, batch_size=batch_size)"
   },
   "outputs": [],
   "source": [
    "# create Tensor datasets\n",
    "train_data = TensorDataset(torch.from_numpy(x_train_pad), torch.from_numpy(y_train))\n",
    "valid_data = TensorDataset(torch.from_numpy(x_test_pad), torch.from_numpy(y_test))\n",
    "\n",
    "# dataloaders\n",
    "batch_size = 50\n",
    "\n",
    "# make sure to SHUFFLE your data\n",
    "train_loader = DataLoader(train_data, shuffle=True, batch_size=batch_size)\n",
    "valid_loader = DataLoader(valid_data, shuffle=True, batch_size=batch_size)"
   ]
  },
  {
   "cell_type": "code",
   "execution_count": 64,
   "id": "92c60150-ce82-4c7f-b61f-0188d3e355ad",
   "metadata": {
    "executionTime": 51,
    "lastSuccessfullyExecutedCode": "# obtain one batch of training data\ndataiter = iter(train_loader)\nsample_x, sample_y = next(dataiter)\n\nprint('Sample input size: ', sample_x.size()) # batch_size, seq_length\nprint('Sample input: \\n', sample_x)\nprint('Sample output: \\n', sample_y)",
    "outputsMetadata": {
     "0": {
      "height": 290,
      "type": "stream"
     }
    }
   },
   "outputs": [
    {
     "name": "stdout",
     "output_type": "stream",
     "text": [
      "Sample input size:  torch.Size([50, 500])\n",
      "Sample input: \n",
      " tensor([[  0,   0,   0,  ..., 101,   5, 235],\n",
      "        [  0,   0,   0,  ..., 341,  44,   1],\n",
      "        [  0,   0,   0,  ...,  39, 638,   3],\n",
      "        ...,\n",
      "        [  0,   0,   0,  ..., 259,  18,   3],\n",
      "        [  0,   0,   0,  ...,   2, 154, 324],\n",
      "        [  0,   0,   0,  ...,   1,   3, 317]])\n",
      "Sample output: \n",
      " tensor([4, 4, 2, 4, 2, 2, 2, 4, 2, 4, 4, 4, 4, 4, 4, 4, 0, 2, 1, 4, 4, 4, 0, 2,\n",
      "        4, 4, 0, 4, 2, 0, 0, 4, 4, 4, 2, 0, 2, 0, 2, 0, 3, 2, 2, 4, 4, 2, 1, 0,\n",
      "        2, 2])\n"
     ]
    }
   ],
   "source": [
    "# obtain one batch of training data\n",
    "dataiter = iter(train_loader)\n",
    "sample_x, sample_y = next(dataiter)\n",
    "\n",
    "print('Sample input size: ', sample_x.size()) # batch_size, seq_length\n",
    "print('Sample input: \\n', sample_x)\n",
    "print('Sample output: \\n', sample_y)"
   ]
  },
  {
   "cell_type": "code",
   "execution_count": 65,
   "id": "0485f609-f2c6-4952-a316-341727e9c6a5",
   "metadata": {
    "executionTime": 0,
    "lastSuccessfullyExecutedCode": "class SentimentRNN(nn.Module):\n    def __init__(self,no_layers,vocab_size,hidden_dim,embedding_dim,drop_prob=0.5):\n        super(SentimentRNN,self).__init__()\n \n        self.output_dim = output_dim\n        self.hidden_dim = hidden_dim\n \n        self.no_layers = no_layers\n        self.vocab_size = vocab_size\n    \n        # embedding and LSTM layers\n        self.embedding = nn.Embedding(vocab_size, embedding_dim)\n        \n        #lstm\n        self.lstm = nn.LSTM(input_size=embedding_dim,hidden_size=self.hidden_dim,\n                           num_layers=no_layers, batch_first=True)\n        \n        \n        # dropout layer\n        self.dropout = nn.Dropout(0.3)\n    \n        # linear and sigmoid layer\n        self.fc = nn.Linear(self.hidden_dim, output_dim)\n        self.sig = nn.Sigmoid()\n        \n    def forward(self,x,hidden):\n        batch_size = x.size(0)\n        # embeddings and lstm_out\n        embeds = self.embedding(x)  # shape: B x S x Feature   since batch = True\n        #print(embeds.shape)  #[50, 500, 1000]\n        lstm_out, hidden = self.lstm(embeds, hidden)\n        \n        lstm_out = lstm_out.contiguous().view(-1, self.hidden_dim) \n        \n        # dropout and fully connected layer\n        out = self.dropout(lstm_out)\n        out = self.fc(out)\n        \n        # sigmoid function\n        sig_out = self.sig(out)\n        \n        # reshape to be batch_size first\n        sig_out = sig_out.view(batch_size, -1)\n\n        sig_out = sig_out[:, -1] # get last batch of labels\n        \n        # return last sigmoid output and hidden state\n        return sig_out, hidden\n        \n        \n        \n    def init_hidden(self, batch_size):\n        ''' Initializes hidden state '''\n        # Create two new tensors with sizes n_layers x batch_size x hidden_dim,\n        # initialized to zero, for hidden state and cell state of LSTM\n        h0 = torch.zeros((self.no_layers,batch_size,self.hidden_dim)).to(device)\n        c0 = torch.zeros((self.no_layers,batch_size,self.hidden_dim)).to(device)\n        hidden = (h0,c0)\n        return hidden   "
   },
   "outputs": [],
   "source": [
    "class SentimentRNN(nn.Module):\n",
    "    def __init__(self,no_layers,vocab_size,hidden_dim,output_dim,embedding_dim,drop_prob=0.5):\n",
    "        super(SentimentRNN,self).__init__()\n",
    " \n",
    "        self.output_dim = output_dim\n",
    "        self.hidden_dim = hidden_dim\n",
    " \n",
    "        self.no_layers = no_layers\n",
    "        self.vocab_size = vocab_size\n",
    "    \n",
    "        # embedding and LSTM layers\n",
    "        self.embedding = nn.Embedding(vocab_size, embedding_dim)\n",
    "        \n",
    "        #lstm\n",
    "        self.lstm = nn.LSTM(input_size=embedding_dim,hidden_size=self.hidden_dim,\n",
    "                           num_layers=no_layers, batch_first=True)\n",
    "        \n",
    "        # dropout layer\n",
    "        self.dropout = nn.Dropout(0.3)\n",
    "    \n",
    "        # linear layer to produce logits for each class\n",
    "        self.fc = nn.Linear(self.hidden_dim, output_dim)\n",
    "        \n",
    "    def forward(self,x,hidden):\n",
    "        batch_size = x.size(0)\n",
    "        # embeddings and lstm_out\n",
    "        embeds = self.embedding(x)  # shape: B x S x Feature\n",
    "        lstm_out, hidden = self.lstm(embeds, hidden)\n",
    "        \n",
    "        # reshape for fully connected: (B*S, H)\n",
    "        lstm_out = lstm_out.contiguous().view(-1, self.hidden_dim)\n",
    "        \n",
    "        out = self.dropout(lstm_out)\n",
    "        out = self.fc(out)  # (B*S, output_dim)\n",
    "        \n",
    "        # reshape to (B, S, output_dim) and take last time step\n",
    "        out = out.view(batch_size, -1, self.output_dim)\n",
    "        out = out[:, -1, :]  # (batch_size, output_dim) -> logits\n",
    "        \n",
    "        return out, hidden\n",
    "        \n",
    "    def init_hidden(self, batch_size):\n",
    "        ''' Initializes hidden state '''\n",
    "        # Create two new tensors with sizes n_layers x batch_size x hidden_dim,\n",
    "        # initialized to zero, for hidden state and cell state of LSTM\n",
    "        h0 = torch.zeros((self.no_layers,batch_size,self.hidden_dim)).to(device)\n",
    "        c0 = torch.zeros((self.no_layers,batch_size,self.hidden_dim)).to(device)\n",
    "        hidden = (h0,c0)\n",
    "        return hidden"
   ]
  },
  {
   "cell_type": "code",
   "execution_count": 66,
   "id": "d46f2a3f-1564-425c-9b46-acc792236141",
   "metadata": {
    "executionTime": 117,
    "lastSuccessfullyExecutedCode": "no_layers = 2\nvocab_size = len(vocab) + 1 #extra 1 for padding\nembedding_dim = 64\noutput_dim = 1\nhidden_dim = 256\n\n\nmodel = SentimentRNN(no_layers,vocab_size,hidden_dim,embedding_dim,drop_prob=0.5)\n\n#moving to gpu\nmodel.to(device)\n\nprint(model)\n",
    "outputsMetadata": {
     "0": {
      "height": 164,
      "type": "stream"
     }
    }
   },
   "outputs": [
    {
     "name": "stdout",
     "output_type": "stream",
     "text": [
      "SentimentRNN(\n",
      "  (embedding): Embedding(1001, 64)\n",
      "  (lstm): LSTM(64, 256, num_layers=2, batch_first=True)\n",
      "  (dropout): Dropout(p=0.3, inplace=False)\n",
      "  (fc): Linear(in_features=256, out_features=5, bias=True)\n",
      ")\n"
     ]
    }
   ],
   "source": [
    "no_layers = 2\n",
    "vocab_size = len(vocab) + 1 #extra 1 for padding\n",
    "embedding_dim = 64\n",
    "output_dim = 5  # 5 classes: Muy malo, Malo, Regular, Bueno, Muy bueno\n",
    "hidden_dim = 256\n",
    "\n",
    "model = SentimentRNN(no_layers,vocab_size,hidden_dim,output_dim,embedding_dim,drop_prob=0.5)\n",
    "\n",
    "#moving to gpu\n",
    "model.to(device)\n",
    "\n",
    "print(model)"
   ]
  },
  {
   "cell_type": "code",
   "execution_count": 67,
   "id": "8fdcf84c-267c-47ae-a121-0de639d6a22f",
   "metadata": {
    "executionTime": 63,
    "lastSuccessfullyExecutedCode": "# loss and optimization functions\nlr=0.001\n\ncriterion = nn.BCELoss()\n\noptimizer = torch.optim.Adam(model.parameters(), lr=lr)\n\n# function to predict accuracy\ndef acc(pred,label):\n    pred = torch.round(pred.squeeze())\n    return torch.sum(pred == label.squeeze()).item()\n"
   },
   "outputs": [],
   "source": [
    "# loss and optimization functions\n",
    "lr=0.001\n",
    "\n",
    "# Use CrossEntropyLoss for multiclass classification\n",
    "criterion = nn.CrossEntropyLoss()\n",
    "\n",
    "optimizer = torch.optim.Adam(model.parameters(), lr=lr)\n",
    "\n",
    "# function to predict accuracy\n",
    "def acc(pred,label):\n",
    "    # pred: logits (batch_size, num_classes)\n",
    "    preds = pred.argmax(dim=1)\n",
    "    return torch.sum(preds == label).item()\n"
   ]
  },
  {
   "cell_type": "code",
   "execution_count": 68,
   "id": "a82d1b23-7edd-4528-a09d-b44707792434",
   "metadata": {
    "outputsMetadata": {
     "0": {
      "height": 227,
      "type": "stream"
     }
    }
   },
   "outputs": [
    {
     "name": "stdout",
     "output_type": "stream",
     "text": [
      "Epoch 1\n",
      "train_loss : 1.113114371140798 val_loss : 0.962907502412796\n",
      "train_accuracy : 51.90933333333333 val_accuracy : 60.392\n",
      "Validation loss decreased (inf --> 0.962908).  Saving model ...\n",
      "==================================================\n",
      "Epoch 2\n",
      "train_loss : 0.89200239888827 val_loss : 0.8532555885314942\n",
      "train_accuracy : 64.44266666666667 val_accuracy : 65.712\n",
      "Validation loss decreased (0.962908 --> 0.853256).  Saving model ...\n",
      "==================================================\n",
      "Epoch 3\n",
      "train_loss : 0.8258977699677149 val_loss : 0.8341404497623444\n",
      "train_accuracy : 67.624 val_accuracy : 67.05600000000001\n",
      "Validation loss decreased (0.853256 --> 0.834140).  Saving model ...\n",
      "==================================================\n",
      "Epoch 4\n",
      "train_loss : 0.7850840598742167 val_loss : 0.8183592257499694\n",
      "train_accuracy : 69.408 val_accuracy : 67.60000000000001\n",
      "Validation loss decreased (0.834140 --> 0.818359).  Saving model ...\n",
      "==================================================\n",
      "Epoch 5\n",
      "train_loss : 0.7409900192022324 val_loss : 0.822370236992836\n",
      "train_accuracy : 71.384 val_accuracy : 67.752\n",
      "==================================================\n"
     ]
    }
   ],
   "source": [
    "clip = 5\n",
    "epochs = 5 \n",
    "valid_loss_min = np.inf\n",
    "# train for some number of epochs\n",
    "epoch_tr_loss,epoch_vl_loss = [],[]\n",
    "epoch_tr_acc,epoch_vl_acc = [],[]\n",
    "\n",
    "for epoch in range(epochs):\n",
    "    train_losses = []\n",
    "    train_acc = 0.0\n",
    "    model.train()\n",
    "    # initialize hidden state \n",
    "    h = model.init_hidden(batch_size)\n",
    "    for inputs, labels in train_loader:\n",
    "        \n",
    "        inputs, labels = inputs.to(device), labels.to(device)\n",
    "        # ensure labels are long for CrossEntropyLoss\n",
    "        labels = labels.long()\n",
    "        # Creating new variables for the hidden state, otherwise\n",
    "        # we'd backprop through the entire training history\n",
    "        h = tuple([each.data for each in h])\n",
    "        \n",
    "        model.zero_grad()\n",
    "        output,h = model(inputs,h)\n",
    "        \n",
    "        # calculate the loss and perform backprop\n",
    "        loss = criterion(output, labels)\n",
    "        loss.backward()\n",
    "        train_losses.append(loss.item())\n",
    "        # calculating accuracy\n",
    "        accuracy = acc(output,labels)\n",
    "        train_acc += accuracy\n",
    "        #`clip_grad_norm` helps prevent the exploding gradient problem in RNNs / LSTMs.\n",
    "        nn.utils.clip_grad_norm_(model.parameters(), clip)\n",
    "        optimizer.step()\n",
    "        \n",
    "    val_h = model.init_hidden(batch_size)\n",
    "    val_losses = []\n",
    "    val_acc = 0.0\n",
    "    model.eval()\n",
    "    for inputs, labels in valid_loader:\n",
    "            val_h = tuple([each.data for each in val_h])\n",
    "\n",
    "            inputs, labels = inputs.to(device), labels.to(device)\n",
    "            labels = labels.long()\n",
    "\n",
    "            output, val_h = model(inputs, val_h)\n",
    "            val_loss = criterion(output, labels)\n",
    "\n",
    "            val_losses.append(val_loss.item())\n",
    "            \n",
    "            accuracy = acc(output,labels)\n",
    "            val_acc += accuracy\n",
    "            \n",
    "    epoch_train_loss = np.mean(train_losses)\n",
    "    epoch_val_loss = np.mean(val_losses)\n",
    "    epoch_train_acc = train_acc/len(train_loader.dataset)\n",
    "    epoch_val_acc = val_acc/len(valid_loader.dataset)\n",
    "    epoch_tr_loss.append(epoch_train_loss)\n",
    "    epoch_vl_loss.append(epoch_val_loss)\n",
    "    epoch_tr_acc.append(epoch_train_acc)\n",
    "    epoch_vl_acc.append(epoch_val_acc)\n",
    "    print(f'Epoch {epoch+1}') \n",
    "    print(f'train_loss : {epoch_train_loss} val_loss : {epoch_val_loss}')\n",
    "    print(f'train_accuracy : {epoch_train_acc*100} val_accuracy : {epoch_val_acc*100}')\n",
    "    if epoch_val_loss <= valid_loss_min:\n",
    "        torch.save(model.state_dict(), 'state_dict.pt')\n",
    "        print('Validation loss decreased ({:.6f} --> {:.6f}).  Saving model ...'.format(valid_loss_min,epoch_val_loss))\n",
    "        valid_loss_min = epoch_val_loss\n",
    "    print(25*'==')"
   ]
  },
  {
   "cell_type": "code",
   "execution_count": 69,
   "id": "233d19dc-85f4-4c96-a848-c12015bf2bdc",
   "metadata": {
    "executionTime": 491,
    "lastSuccessfullyExecutedCode": "fig = plt.figure(figsize = (20, 6))\nplt.subplot(1, 2, 1)\nplt.plot(epoch_tr_acc, label='Train Acc')\nplt.plot(epoch_vl_acc, label='Validation Acc')\nplt.title(\"Accuracy\")\nplt.legend()\nplt.grid()\n    \nplt.subplot(1, 2, 2)\nplt.plot(epoch_tr_loss, label='Train loss')\nplt.plot(epoch_vl_loss, label='Validation loss')\nplt.title(\"Loss\")\nplt.legend()\nplt.grid()\n\nplt.show()"
   },
   "outputs": [
    {
     "data": {
      "image/png": "[encoded data removed]",
      "text/plain": [
       "<Figure size 2000x600 with 2 Axes>"
      ]
     },
     "metadata": {},
     "output_type": "display_data"
    }
   ],
   "source": [
    "fig = plt.figure(figsize = (20, 6))\n",
    "plt.subplot(1, 2, 1)\n",
    "plt.plot(epoch_tr_acc, label='Train Acc')\n",
    "plt.plot(epoch_vl_acc, label='Validation Acc')\n",
    "plt.title(\"Accuracy\")\n",
    "plt.legend()\n",
    "plt.grid()\n",
    "    \n",
    "plt.subplot(1, 2, 2)\n",
    "plt.plot(epoch_tr_loss, label='Train loss')\n",
    "plt.plot(epoch_vl_loss, label='Validation loss')\n",
    "plt.title(\"Loss\")\n",
    "plt.legend()\n",
    "plt.grid()\n",
    "\n",
    "plt.show()"
   ]
  },
  {
   "cell_type": "code",
   "execution_count": 70,
   "id": "7f7f3771-4eac-4500-b343-0618707869e3",
   "metadata": {
    "executionTime": 0,
    "lastSuccessfullyExecutedCode": "def predict_text(text):\n        word_seq = np.array([vocab[preprocess_string(word)] for word in text.split() \n                         if preprocess_string(word) in vocab.keys()])\n        word_seq = np.expand_dims(word_seq,axis=0)\n        pad =  torch.from_numpy(padding_(word_seq,500))\n        inputs = pad.to(device)\n        batch_size = 1\n        h = model.init_hidden(batch_size)\n        h = tuple([each.data for each in h])\n        output, h = model(inputs, h)\n        return(output.item())"
   },
   "outputs": [],
   "source": [
    "def predict_text(text):\n",
    "        word_seq = np.array([vocab[preprocess_string(word)] for word in text.split() \n",
    "                         if preprocess_string(word) in vocab.keys()])\n",
    "        word_seq = np.expand_dims(word_seq,axis=0)\n",
    "        pad =  torch.from_numpy(padding_(word_seq,500))\n",
    "        inputs = pad.to(device)\n",
    "        batch_size = 1\n",
    "        h = model.init_hidden(batch_size)\n",
    "        h = tuple([each.data for each in h])\n",
    "        output, h = model(inputs, h)  # logits\n",
    "        probs = torch.softmax(output, dim=1)\n",
    "        prob, idx = torch.max(probs, dim=1)\n",
    "        idx = idx.item()\n",
    "        prob = prob.item()\n",
    "        idx2label = {0:'Muy malo', 1:'Malo', 2:'Regular', 3:'Bueno', 4:'Muy bueno'}\n",
    "        return idx2label[idx], prob"
   ]
  },
  {
   "cell_type": "code",
   "execution_count": 71,
   "id": "f0eb84f7-c51d-4c32-a8b8-eea678fa9552",
   "metadata": {
    "executionTime": 85,
    "lastSuccessfullyExecutedCode": "index = 30\nprint(df['review'][index])\nprint('='*70)\nprint(f'Actual sentiment is  : {df[\"sentiment\"][index]}')\nprint('='*70)\npro = predict_text(df['review'][index])\nstatus = \"positive\" if pro > 0.5 else \"negative\"\npro = (1 - pro) if status == \"negative\" else pro\nprint(f'Predicted sentiment is {status} with a probability of {pro}')",
    "outputsMetadata": {
     "0": {
      "height": 479,
      "type": "stream"
     }
    }
   },
   "outputs": [
    {
     "name": "stdout",
     "output_type": "stream",
     "text": [
      "Let's keep it simple: My two kids were glued to this movie. It has its flaws from an adult perspective, but buy some jelly-worms and just enjoy it. <br /><br />And the Pepsi girl was excellent!<br /><br />And Kimberly Williams was pretty gosh-darned hot, although she's not in the film very much, so don't get too excited there.<br /><br />Not that's it's really a bad thing, but it is the kind of movie you watch just once. Don't buy the DVD.<br /><br />Enjoy!<br /><br />Did I mention Kimberly Williams? (That was for the dads.)\n",
      "======================================================================\n",
      "Actual sentiment is  : Bueno\n",
      "======================================================================\n",
      "Predicted sentiment is Muy bueno with a probability of 0.488\n"
     ]
    }
   ],
   "source": [
    "index = 300\n",
    "print(df['review'][index])\n",
    "print('='*70)\n",
    "print(f'Actual sentiment is  : {df[\"sentiment_5class\"][index]}')\n",
    "print('='*70)\n",
    "label, prob = predict_text(df['review'][index])\n",
    "print(f'Predicted sentiment is {label} with a probability of {prob:.3f}')"
   ]
  },
  {
   "cell_type": "code",
   "execution_count": 72,
   "id": "dd083c78-9830-4bf6-9b3f-4502060eced0",
   "metadata": {
    "executionTime": 80,
    "lastSuccessfullyExecutedCode": "index = 32\nprint(df['review'][index])\nprint('='*70)\nprint(f'Actual sentiment is  : {df[\"sentiment\"][index]}')\nprint('='*70)\npro = predict_text(df['review'][index])\nstatus = \"positive\" if pro > 0.5 else \"negative\"\npro = (1 - pro) if status == \"negative\" else pro\nprint(f'predicted sentiment is {status} with a probability of {pro}')",
    "outputsMetadata": {
     "0": {
      "height": 206,
      "type": "stream"
     }
    }
   },
   "outputs": [
    {
     "name": "stdout",
     "output_type": "stream",
     "text": [
      "I am not a golf fan by any means. On May 26 about 10:30 PM the movie started with a scene in the late 1800's. Old movies I like but not golf however, within the first scene a young boy (Harry Vardon) is awaken by the voices of men. He goes outside to inquire what they are doing and is told they are going to build a golf something... So , then I turned the television off but something stirred me and it was back on. The movie is excellent. We then see this young boy now a man; professional golf player who is haunted with visions from his childhood. Then we meet the true focus of the movie Francis and the decisions he makes for golf. You meet his mother and father who want to protect him from the class thing that is so obvious during the period. Then there is little Eddie Lowery his caddy with encouraging words and little pushes that are instrumental in Francis winning. Don't want to give away too much . I was up until 2 A.M. This is super please see the movie.\n",
      "======================================================================\n",
      "Actual sentiment is  : Muy bueno\n",
      "======================================================================\n",
      "Predicted sentiment is Muy bueno with a probability of 0.736\n"
     ]
    }
   ],
   "source": [
    "index = 32\n",
    "print(df['review'][index])\n",
    "print('='*70)\n",
    "print(f'Actual sentiment is  : {df[\"sentiment_5class\"][index]}')\n",
    "print('='*70)\n",
    "label, prob = predict_text(df['review'][index])\n",
    "print(f'Predicted sentiment is {label} with a probability of {prob:.3f}')"
   ]
  }
 ],
 "metadata": {
  "colab": {
   "name": "Welcome to DataCamp Workspaces.ipynb",
   "provenance": []
  },
  "kernelspec": {
   "display_name": "Python 3",
   "language": "python",
   "name": "python3"
  },
  "language_info": {
   "codemirror_mode": {
    "name": "ipython",
    "version": 3
   },
   "file_extension": ".py",
   "mimetype": "text/x-python",
   "name": "python",
   "nbconvert_exporter": "python",
   "pygments_lexer": "ipython3",
   "version": "3.12.7"
  }
 },
 "nbformat": 4,
 "nbformat_minor": 5
}
